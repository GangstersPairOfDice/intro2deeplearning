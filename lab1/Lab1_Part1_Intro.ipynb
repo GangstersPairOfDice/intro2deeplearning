{
 "cells": [
  {
   "cell_type": "code",
   "execution_count": 3,
   "id": "64e63dc0-f8e2-4b33-aed0-e41bdf60f6ce",
   "metadata": {},
   "outputs": [],
   "source": [
    "# imports\n",
    "\n",
    "import os\n",
    "import numpy as np\n",
    "from tinygrad import Tensor, nn\n",
    "import matplotlib.pyplot as plt\n",
    "\n",
    "# setting tinygrad device to gpu since METAL is broken on older macs\n",
    "os.environ['GPU'] = '1'"
   ]
  },
  {
   "cell_type": "code",
   "execution_count": 4,
   "id": "2d90ce92-c30d-451a-903c-6ff5256787fd",
   "metadata": {},
   "outputs": [
    {
     "name": "stdout",
     "output_type": "stream",
     "text": [
      "<Tensor <UOp GPU (1,) int (<Ops.BUFFER: 7>, <buf real:True device:GPU size:1 dtype:dtypes.int>)> on GPU with grad None> 1 (1,)\n",
      "<Tensor <UOp GPU (1,) float (<Ops.BUFFER: 7>, <buf real:True device:GPU size:1 dtype:dtypes.float>)> on GPU with grad None>\n"
     ]
    }
   ],
   "source": [
    "integer = Tensor([2])\n",
    "print(integer.realize(), integer.ndim, integer.shape)\n",
    "\n",
    "decimal = Tensor([3.14159])\n",
    "print(decimal.realize())"
   ]
  },
  {
   "cell_type": "code",
   "execution_count": 5,
   "id": "50145b3a-f139-4bff-b726-aa7fb491d7c1",
   "metadata": {},
   "outputs": [
    {
     "name": "stdout",
     "output_type": "stream",
     "text": [
      "1 (6,)\n",
      "1 (100,)\n"
     ]
    }
   ],
   "source": [
    "fibonacci = Tensor([1,1,2,3,5,8])\n",
    "print(fibonacci.ndim, fibonacci.shape)\n",
    "\n",
    "count_to_100 = Tensor.arange(start=0, stop=100, step=1)\n",
    "print(count_to_100.ndim, count_to_100.shape)"
   ]
  },
  {
   "cell_type": "code",
   "execution_count": 6,
   "id": "e75b1f74-b712-4de2-83ca-58c7f70965a0",
   "metadata": {},
   "outputs": [
    {
     "name": "stdout",
     "output_type": "stream",
     "text": [
      "images is a 4-d Tensor with shape: (10, 3, 256, 256)\n"
     ]
    }
   ],
   "source": [
    "### Defining higher-order Tensors ###\n",
    "\n",
    "# define a 2-d tensor\n",
    "matrix = Tensor([[1,2], [3,4]])\n",
    "assert matrix.ndim == 2\n",
    "\n",
    "# define a 4-d tensor\n",
    "# Use Tensor.zeros to initialize a 4-d Tensor of zeros with size 10 x 3 x 256 x 256.\n",
    "#   You can think of this as 10 images where each image is RGB 256 x 256.\n",
    "images = Tensor.zeros(10,3,256,256)\n",
    "assert images.ndim == 4\n",
    "assert images.shape == (10,3,256,256)\n",
    "print(f\"images is a {images.ndim}-d Tensor with shape: {images.shape}\")"
   ]
  },
  {
   "cell_type": "code",
   "execution_count": 7,
   "id": "39496e95-441e-4b38-a518-da78b95db7dc",
   "metadata": {},
   "outputs": [
    {
     "name": "stdout",
     "output_type": "stream",
     "text": [
      "`row_vector`: [3 4]\n",
      "`column_vector`: [2 4]\n",
      "`scalar`: 2\n"
     ]
    }
   ],
   "source": [
    "row_vector = matrix[1]\n",
    "column_vector = matrix[:, 1]\n",
    "scalar = matrix[0, 1]\n",
    "\n",
    "print(f\"`row_vector`: {row_vector.numpy()}\")\n",
    "print(f\"`column_vector`: {column_vector.numpy()}\")\n",
    "print(f\"`scalar`: {scalar.numpy()}\")"
   ]
  },
  {
   "cell_type": "code",
   "execution_count": 8,
   "id": "6c2cdbf8-5fae-4590-ade6-bfbdbcc41f91",
   "metadata": {},
   "outputs": [
    {
     "name": "stdout",
     "output_type": "stream",
     "text": [
      "c1: 76\n",
      "c2: 76\n"
     ]
    }
   ],
   "source": [
    "# Create the nodes in the graph and initialize values\n",
    "a = Tensor(15)\n",
    "b = Tensor(61)\n",
    "\n",
    "# Add them!\n",
    "c1 = Tensor.add(a, b)\n",
    "c2 = a + b  # tinygrad overrides the \"+\" operation so that it is able to act on Tensors\n",
    "print(f\"c1: {c1.numpy()}\")\n",
    "print(f\"c2: {c2.numpy()}\")"
   ]
  },
  {
   "cell_type": "code",
   "execution_count": 9,
   "id": "9d521160-bb68-4fc2-9821-a472663a931a",
   "metadata": {},
   "outputs": [],
   "source": [
    "### Defining Tensor computations ###\n",
    "\n",
    "# Construct a simple computation function\n",
    "def func(a, b):\n",
    "    #Define the operation for c, d, e\n",
    "    a = Tensor(a)\n",
    "    b = Tensor(b)\n",
    "    c = Tensor.add(a, b)\n",
    "    d = b - 1\n",
    "    e = Tensor.mul(c, d)\n",
    "    return e"
   ]
  },
  {
   "cell_type": "code",
   "execution_count": 10,
   "id": "1723628e-d19c-41e6-ad70-67060d8886e8",
   "metadata": {},
   "outputs": [
    {
     "name": "stdout",
     "output_type": "stream",
     "text": [
      "e_out: <Tensor <UOp GPU () float (<Ops.MUL: 57>, None)> on GPU with grad None>\n",
      "e_out: <Tensor <UOp GPU () float (<Ops.CONST: 82>, None)> on GPU with grad None>\n",
      "e_out: 6.0\n"
     ]
    }
   ],
   "source": [
    "# Consider example values for a,b\n",
    "a, b = 1.5, 2.5\n",
    "# Execute the computation\n",
    "e_out = func(a, b)\n",
    "print(f\"e_out: {e_out}\")\n",
    "print(f\"e_out: {e_out.realize()}\")\n",
    "print(f\"e_out: {e_out.numpy()}\")"
   ]
  },
  {
   "cell_type": "code",
   "execution_count": 11,
   "id": "7d3428b7-6c0e-48da-a45d-1660c802f03c",
   "metadata": {},
   "outputs": [],
   "source": [
    "### Defining a dense layer ###\n",
    "\n",
    "# num_inputs: number of input nodes\n",
    "# num_outputs: number of output nodes\n",
    "# x: input to the layer\n",
    "\n",
    "class OurDenseLayer:\n",
    "    def __init__(self, num_inputs, num_outputs):\n",
    "        # Define and initialize parameters: a weight matrix W and bias b\n",
    "        # Note that the parameter initialize is random!\n",
    "        self.W = Tensor.randn(num_inputs, num_outputs)\n",
    "        self.bias = Tensor.randn(num_outputs)\n",
    "\n",
    "    def __call__(self, x):\n",
    "        #define the operation for z (hint: use .matmul() method)\n",
    "        z = x.matmul(self.W) + self.bias\n",
    "\n",
    "        #define the operation for out (hint: use .sigmoid())\n",
    "        y = z.sigmoid()\n",
    "        return y"
   ]
  },
  {
   "cell_type": "code",
   "execution_count": 12,
   "id": "63934e70-ab56-4b23-9679-041c365f8005",
   "metadata": {},
   "outputs": [
    {
     "name": "stdout",
     "output_type": "stream",
     "text": [
      "input shape: (1, 2)\n",
      "output shape: (1, 3)\n",
      "output result: [[0.655864   0.32749683 0.99188364]]\n"
     ]
    }
   ],
   "source": [
    "# Define a layer and test the output!\n",
    "num_inputs = 2\n",
    "num_outputs = 3\n",
    "layer = OurDenseLayer(num_inputs, num_outputs)\n",
    "x_input = Tensor([[1, 2.]])\n",
    "y = layer(x_input)\n",
    "\n",
    "print(f\"input shape: {x_input.shape}\")\n",
    "print(f\"output shape: {y.shape}\")\n",
    "print(f\"output result: {y.numpy()}\")"
   ]
  },
  {
   "cell_type": "code",
   "execution_count": 13,
   "id": "d4f0b5ab-a2cb-4e85-a40f-0e9a0aea10f6",
   "metadata": {},
   "outputs": [],
   "source": [
    "### Defining a neural network using the tinygrad .sequential method ###\n",
    "\n",
    "# define the number of inputs and outputs\n",
    "n_input_nodes = 2\n",
    "n_output_nodes = 3\n",
    "\n",
    "# Define the model\n",
    "# Use the .sequential meth to define a neural network with a\n",
    "# single linear (dense!) layer, followed by non-linearity to compute z\n",
    "class Model:\n",
    "    def __init__(self):\n",
    "        self.lin = nn.Linear(n_input_nodes, n_output_nodes) # linear dense layer\n",
    "\n",
    "    def __call__(self, x):\n",
    "        return x.sequential([\n",
    "            lambda x: self.lin(x),\n",
    "            lambda x: x.sigmoid() # non-linear activation function\n",
    "        ])"
   ]
  },
  {
   "cell_type": "code",
   "execution_count": 14,
   "id": "3193cbcd-51fc-48b9-bb29-2acd58037da0",
   "metadata": {},
   "outputs": [
    {
     "name": "stdout",
     "output_type": "stream",
     "text": [
      "model weights: [[-0.17208508 -0.26574346]\n",
      " [ 0.13424395  0.4505992 ]\n",
      " [-0.1578037   0.16829674]]\n",
      "input shape: (1, 2)\n",
      "output shape: (1, 3)\n",
      "output result: [[0.2809306  0.5910083  0.46497723]]\n"
     ]
    }
   ],
   "source": [
    "# Test the model with example input\n",
    "x_input = Tensor([[1, 2.]])\n",
    "model = Model()\n",
    "y = model(x_input)\n",
    "\n",
    "print(f\"model weights: {model.lin.weight.numpy()}\")\n",
    "print(f\"input shape: {x_input.shape}\")\n",
    "print(f\"output shape: {y.shape}\")\n",
    "print(f\"output result: {y.numpy()}\")"
   ]
  },
  {
   "cell_type": "code",
   "execution_count": 21,
   "id": "15144ed9-3870-4cc1-8a3f-ef330e8ce7e4",
   "metadata": {},
   "outputs": [],
   "source": [
    "### Defining a model using subclassing (which isnt a thing in tinygrad, so we skip this)\n",
    "\n",
    "class LinearWithSigmoidActivation:\n",
    "    def __init__(self, num_inputs, num_outputs):\n",
    "        # define a model with a single Linear layer\n",
    "        self.linear = nn.Linear(num_inputs, num_outputs) # linear layer\n",
    "\n",
    "    # call the sigmoid method in the forward pass\n",
    "    def __call__(self, inputs):\n",
    "        linear_output = self.linear(inputs)\n",
    "        output = linear_output.sigmoid()\n",
    "        return output"
   ]
  },
  {
   "cell_type": "code",
   "execution_count": 23,
   "id": "f66f7cda-d003-4581-ba97-9753b46baece",
   "metadata": {},
   "outputs": [
    {
     "name": "stdout",
     "output_type": "stream",
     "text": [
      "input shape: (1, 2)\n",
      "output shape: (1, 3)\n",
      "output result: [[0.79418314 0.19453847 0.64254946]]\n"
     ]
    }
   ],
   "source": [
    "# test model\n",
    "n_input_nodes = 2\n",
    "n_output_nodes = 3\n",
    "model = LinearWithSigmoidActivation(n_input_nodes, n_output_nodes)\n",
    "x_input = Tensor([[1, 2.]])\n",
    "y = model(x_input)\n",
    "print(f\"input shape: {x_input.shape}\")\n",
    "print(f\"output shape: {y.shape}\")\n",
    "print(f\"output result: {y.numpy()}\")"
   ]
  },
  {
   "cell_type": "code",
   "execution_count": 26,
   "id": "4a1392e2-d670-4752-ac1f-b9e972e99103",
   "metadata": {},
   "outputs": [],
   "source": [
    "### Custom behavior\n",
    "\n",
    "class LinearButSometimesIdentity:\n",
    "    def __init__(self, num_inputs, num_outputs):\n",
    "        self.linear = nn.Linear(num_inputs, num_outputs)\n",
    "\n",
    "    # Implement the behavior where the network outputs the input, unchanged,\n",
    "    # under control of the isidentity argument\n",
    "    def __call__(self, inputs, isidentity=False):\n",
    "        if isidentity==True:\n",
    "            return inputs\n",
    "        else:\n",
    "            linear_output = self.linear(inputs)\n",
    "            return linear_output"
   ]
  },
  {
   "cell_type": "code",
   "execution_count": 27,
   "id": "fd72bea2-ee19-46e5-b20d-58b3c87f8af5",
   "metadata": {},
   "outputs": [
    {
     "name": "stdout",
     "output_type": "stream",
     "text": [
      "input: [[1. 2.]]\n",
      "Network linear output: [[-0.9087167   0.40461403 -0.18421459]]; network identity output: [[1. 2.]]\n"
     ]
    }
   ],
   "source": [
    "# Test the IdentityModel\n",
    "model = LinearButSometimesIdentity(num_inputs=2, num_outputs=3)\n",
    "x_input = Tensor([[1, 2.]])\n",
    "\n",
    "# pass the input into the model and call with and without the input identity option.'''\n",
    "out_with_linear = model(x_input)\n",
    "\n",
    "out_with_identity = model(x_input, isidentity=True)\n",
    "\n",
    "print(f\"input: {x_input.numpy()}\")\n",
    "print(\"Network linear output: {}; network identity output: {}\".format(out_with_linear.numpy(), out_with_identity.numpy()))"
   ]
  },
  {
   "cell_type": "code",
   "execution_count": 52,
   "id": "1fed8632-70ff-4cfc-82ee-1d4d82d06c4e",
   "metadata": {},
   "outputs": [
    {
     "name": "stdout",
     "output_type": "stream",
     "text": [
      "dy_dx of y=x^2 at x=3.0 is:  6.0\n"
     ]
    }
   ],
   "source": [
    "### Gradient computation ###\n",
    "\n",
    "# y = x^2\n",
    "# Example: x = 3.0\n",
    "x = Tensor(3.0, requires_grad=True)\n",
    "y = x ** 2\n",
    "y.backward()  # Compute the gradient\n",
    "\n",
    "dy_dx = x.grad.numpy()\n",
    "print(\"dy_dx of y=x^2 at x=3.0 is: \", dy_dx)\n",
    "assert dy_dx == 6.0"
   ]
  },
  {
   "cell_type": "code",
   "execution_count": 114,
   "id": "cb54066e-a5b0-42b0-a9ea-c2b61f10e035",
   "metadata": {},
   "outputs": [
    {
     "name": "stdout",
     "output_type": "stream",
     "text": [
      "Initializing x=2.196676731109619\n",
      "[-1.081994]\n",
      "[-0.43279755]\n",
      "[-0.17311907]\n",
      "[-0.06924763]\n",
      "[-0.027699]\n",
      "[-0.0110796]\n",
      "[-0.00443187]\n",
      "[-0.00177269]\n",
      "[-0.0007091]\n",
      "[-0.00028367]\n",
      "[-0.00011344]\n",
      "[-4.5347217e-05]\n",
      "[-1.8167497e-05]\n",
      "[-7.2956086e-06]\n",
      "[-2.861023e-06]\n",
      "[-1.1444092e-06]\n",
      "[-4.2915346e-07]\n",
      "[-1.4305115e-07]\n",
      "[0.]\n",
      "[0.]\n",
      "[0.]\n",
      "[0.]\n",
      "[0.]\n",
      "[0.]\n",
      "[0.]\n",
      "[0.]\n",
      "[0.]\n",
      "[0.]\n",
      "[0.]\n",
      "[0.]\n",
      "[0.]\n",
      "[0.]\n",
      "[0.]\n",
      "[0.]\n",
      "[0.]\n",
      "[0.]\n",
      "[0.]\n",
      "[0.]\n",
      "[0.]\n",
      "[0.]\n",
      "[0.]\n",
      "[0.]\n",
      "[0.]\n",
      "[0.]\n",
      "[0.]\n",
      "[0.]\n",
      "[0.]\n",
      "[0.]\n",
      "[0.]\n",
      "[0.]\n",
      "[0.]\n",
      "[0.]\n",
      "[0.]\n",
      "[0.]\n",
      "[0.]\n",
      "[0.]\n",
      "[0.]\n",
      "[0.]\n",
      "[0.]\n",
      "[0.]\n",
      "[0.]\n",
      "[0.]\n",
      "[0.]\n",
      "[0.]\n",
      "[0.]\n",
      "[0.]\n",
      "[0.]\n",
      "[0.]\n",
      "[0.]\n",
      "[0.]\n",
      "[0.]\n",
      "[0.]\n",
      "[0.]\n",
      "[0.]\n",
      "[0.]\n",
      "[0.]\n",
      "[0.]\n",
      "[0.]\n",
      "[0.]\n",
      "[0.]\n",
      "[0.]\n",
      "[0.]\n",
      "[0.]\n",
      "[0.]\n",
      "[0.]\n",
      "[0.]\n",
      "[0.]\n",
      "[0.]\n",
      "[0.]\n",
      "[0.]\n",
      "[0.]\n",
      "[0.]\n",
      "[0.]\n",
      "[0.]\n",
      "[0.]\n",
      "[0.]\n",
      "[0.]\n",
      "[0.]\n",
      "[0.]\n",
      "[0.]\n",
      "[0.]\n",
      "[0.]\n",
      "[0.]\n",
      "[0.]\n",
      "[0.]\n",
      "[0.]\n",
      "[0.]\n",
      "[0.]\n",
      "[0.]\n",
      "[0.]\n",
      "[0.]\n",
      "[0.]\n",
      "[0.]\n",
      "[0.]\n",
      "[0.]\n",
      "[0.]\n",
      "[0.]\n",
      "[0.]\n",
      "[0.]\n",
      "[0.]\n",
      "[0.]\n",
      "[0.]\n",
      "[0.]\n",
      "[0.]\n",
      "[0.]\n",
      "[0.]\n",
      "[0.]\n",
      "[0.]\n",
      "[0.]\n",
      "[0.]\n",
      "[0.]\n",
      "[0.]\n",
      "[0.]\n",
      "[0.]\n",
      "[0.]\n",
      "[0.]\n",
      "[0.]\n",
      "[0.]\n",
      "[0.]\n",
      "[0.]\n",
      "[0.]\n",
      "[0.]\n",
      "[0.]\n",
      "[0.]\n",
      "[0.]\n",
      "[0.]\n",
      "[0.]\n",
      "[0.]\n",
      "[0.]\n",
      "[0.]\n",
      "[0.]\n",
      "[0.]\n",
      "[0.]\n",
      "[0.]\n",
      "[0.]\n",
      "[0.]\n",
      "[0.]\n",
      "[0.]\n",
      "[0.]\n",
      "[0.]\n",
      "[0.]\n",
      "[0.]\n",
      "[0.]\n",
      "[0.]\n",
      "[0.]\n",
      "[0.]\n",
      "[0.]\n",
      "[0.]\n",
      "[0.]\n",
      "[0.]\n",
      "[0.]\n",
      "[0.]\n",
      "[0.]\n",
      "[0.]\n",
      "[0.]\n",
      "[0.]\n",
      "[0.]\n",
      "[0.]\n",
      "[0.]\n",
      "[0.]\n",
      "[0.]\n",
      "[0.]\n",
      "[0.]\n",
      "[0.]\n",
      "[0.]\n",
      "[0.]\n",
      "[0.]\n",
      "[0.]\n",
      "[0.]\n",
      "[0.]\n",
      "[0.]\n",
      "[0.]\n",
      "[0.]\n",
      "[0.]\n",
      "[0.]\n",
      "[0.]\n",
      "[0.]\n",
      "[0.]\n",
      "[0.]\n",
      "[0.]\n"
     ]
    },
    {
     "data": {
      "image/png": "[encoded data removed]",
      "text/plain": [
       "<Figure size 640x480 with 1 Axes>"
      ]
     },
     "metadata": {},
     "output_type": "display_data"
    }
   ],
   "source": [
    "### Function minimization with autograd and gradient descent ###\n",
    "\n",
    "# Initialize a random value for our intial x\n",
    "x = Tensor.randn(1)\n",
    "print(f\"Initializing x={x.item()}\")\n",
    "\n",
    "learning_rate = 0.1 # Learning rate\n",
    "history = []\n",
    "x_f = Tensor(4.0)  # Target value\n",
    "\n",
    "# We will run gradient descent for a number of iterations. At each iteration, we compute the loss,\n",
    "#   compute the derivative of the loss with respect to x, and perform the update.\n",
    "for i in range(200):\n",
    "    x = Tensor(x.numpy(), requires_grad=True)\n",
    "\n",
    "    # Compute the loss as the square of the difference between x and x_f\n",
    "    loss = (( x - x_f ) ** 2).sum()\n",
    "\n",
    "    # Backpropagate through the loss to compute gradients\n",
    "    loss.backward()\n",
    "\n",
    "    step_size = learning_rate * x.grad\n",
    "    print(step_size.numpy())\n",
    "\n",
    "    # Update x with gradient descent\n",
    "    x = x.item() - learning_rate * x.grad\n",
    "\n",
    "    history.append(x.item())\n",
    "\n",
    "# Plot the evolution of x as we optimize toward x_f!\n",
    "plt.plot(history)\n",
    "plt.plot([0, 200], [x_f.numpy(), x_f.numpy()])\n",
    "plt.legend(('Predicted', 'True'))\n",
    "plt.xlabel('Iteration')\n",
    "plt.ylabel('x value')\n",
    "plt.show()"
   ]
  },
  {
   "cell_type": "code",
   "execution_count": null,
   "id": "bd1aee0f-26f2-4760-88be-49126584583a",
   "metadata": {},
   "outputs": [],
   "source": []
  }
 ],
 "metadata": {
  "kernelspec": {
   "display_name": "Python 3 (ipykernel)",
   "language": "python",
   "name": "python3"
  },
  "language_info": {
   "codemirror_mode": {
    "name": "ipython",
    "version": 3
   },
   "file_extension": ".py",
   "mimetype": "text/x-python",
   "name": "python",
   "nbconvert_exporter": "python",
   "pygments_lexer": "ipython3",
   "version": "3.13.1"
  }
 },
 "nbformat": 4,
 "nbformat_minor": 5
}
