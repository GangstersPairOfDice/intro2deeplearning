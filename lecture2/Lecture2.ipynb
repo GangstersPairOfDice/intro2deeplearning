{
 "cells": [
  {
   "cell_type": "code",
   "execution_count": 3,
   "id": "5eddf225-b344-4024-90f8-3c92ed03dbfc",
   "metadata": {},
   "outputs": [],
   "source": [
    "# imports\n",
    "\n",
    "import os\n",
    "import numpy as np\n",
    "from tinygrad import Tensor, nn\n",
    "\n",
    "# setting tinygrad device to GPU since METAL is broken on older macs\n",
    "os.environ['GPU'] = '1'"
   ]
  },
  {
   "cell_type": "code",
   "execution_count": 23,
   "id": "12afc39f-3f66-43e4-9c85-f2ea60d8a42a",
   "metadata": {},
   "outputs": [],
   "source": [
    "# recurrent neural networks (rnn's)\n",
    "# from scratch(ish) using tinygrad\n",
    "# essentially a single layer nn,\n",
    "# that updates its hidden layer at each time step\n",
    "\n",
    "class MyRNNCell:\n",
    "    def __init__(self, rnn_units, input_dim, output_dim):\n",
    "\n",
    "        # init weight matrixz\n",
    "        self.W_xh = Tensor.randn(rnn_units, input_dim)\n",
    "        self.W_hh = Tensor.randn(rnn_units, rnn_units)\n",
    "        self.W_hy = Tensor.randn(output_dim, rnn_units)\n",
    "\n",
    "        # init hidden state to zero\n",
    "        self.h = Tensor.zeros(rnn_units, 1)\n",
    "\n",
    "    def __call__(self, x: Tensor):\n",
    "\n",
    "        # update the hidden state\n",
    "        self.h = ( self.W_hh @ self.h + self.W_xh @ x ).tanh()\n",
    "\n",
    "        # compute the output\n",
    "        output = self.W_hy @ self.h\n",
    "\n",
    "        # return current output, hidden state\n",
    "        return output, self.h"
   ]
  },
  {
   "cell_type": "code",
   "execution_count": 61,
   "id": "4fedbcf6-6303-464e-ac4b-ada2682f8799",
   "metadata": {},
   "outputs": [
    {
     "name": "stdout",
     "output_type": "stream",
     "text": [
      "output:[[-0.54117614  1.4863719 ]], hidden: [[-0.32684833  0.89770806]\n",
      " [-0.32684833  0.89770806]]\n"
     ]
    }
   ],
   "source": [
    "test = MyRNNCell(2, 1, 1)\n",
    "\n",
    "output, hidden = test(Tensor([1]))\n",
    "\n",
    "print(f'output:{output.numpy()}, hidden: {hidden.numpy()}')"
   ]
  },
  {
   "cell_type": "code",
   "execution_count": null,
   "id": "ed901790-2238-4471-8375-d51105ba07de",
   "metadata": {},
   "outputs": [],
   "source": []
  }
 ],
 "metadata": {
  "kernelspec": {
   "display_name": "Python 3 (ipykernel)",
   "language": "python",
   "name": "python3"
  },
  "language_info": {
   "codemirror_mode": {
    "name": "ipython",
    "version": 3
   },
   "file_extension": ".py",
   "mimetype": "text/x-python",
   "name": "python",
   "nbconvert_exporter": "python",
   "pygments_lexer": "ipython3",
   "version": "3.13.1"
  }
 },
 "nbformat": 4,
 "nbformat_minor": 5
}
