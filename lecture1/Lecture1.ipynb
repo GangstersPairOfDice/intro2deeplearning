{
 "cells": [
  {
   "cell_type": "code",
   "execution_count": 1,
   "id": "4a1414ad-6c0d-4be9-af8b-a2625b2f6522",
   "metadata": {},
   "outputs": [],
   "source": [
    "# imports\n",
    "\n",
    "import os\n",
    "import numpy as np\n",
    "from tinygrad import Tensor\n",
    "\n",
    "# setting tinygrad device to gpu since METAL is broken on older macs\n",
    "os.environ['GPU'] = '1'"
   ]
  },
  {
   "cell_type": "code",
   "execution_count": 8,
   "id": "3321af30-93fc-4e2f-8d30-02d4f2b7fc4a",
   "metadata": {},
   "outputs": [
    {
     "name": "stdout",
     "output_type": "stream",
     "text": [
      "[[ 0.156151    1.2604382   0.25991437  0.30782044 -0.32775763 -1.5338086\n",
      "  -0.6427965  -1.0144918  -0.9374801  -2.1249866 ]]\n"
     ]
    }
   ],
   "source": [
    "# perceptron \n",
    "\n",
    "class Perceptron:\n",
    "    def __init__(self, input_size):\n",
    "        # init weights and bias\n",
    "        self.weights = Tensor.randn(1, input_size)\n",
    "        self.bias = Tensor.randn(1,1)\n",
    "\n",
    "    def forward(self, input):\n",
    "        # perform forward perceptron computation\n",
    "        output = inputs.dot(self.weights.T).add(self.bias).sigmoid()\n",
    "        return output\n",
    "\n",
    "    def gen_rand_input(self, dim):\n",
    "        return Tensor.randint(1, dim, low=-10, high=10)\n",
    "\n",
    "# Spawn perceptron with input size 10\n",
    "p1 = Perceptron(10)\n",
    "\n",
    "# Gen rand input\n",
    "inputs = p1.gen_rand_input(10)\n",
    "\n",
    "# Forward pass\n",
    "output = p1.forward(inputs)\n",
    "\n",
    "print(p1.weights.numpy())\n"
   ]
  },
  {
   "cell_type": "code",
   "execution_count": null,
   "id": "f961b70f-6344-4b45-a0b1-ad75f50729a9",
   "metadata": {},
   "outputs": [],
   "source": []
  }
 ],
 "metadata": {
  "kernelspec": {
   "display_name": "Python 3 (ipykernel)",
   "language": "python",
   "name": "python3"
  },
  "language_info": {
   "codemirror_mode": {
    "name": "ipython",
    "version": 3
   },
   "file_extension": ".py",
   "mimetype": "text/x-python",
   "name": "python",
   "nbconvert_exporter": "python",
   "pygments_lexer": "ipython3",
   "version": "3.13.1"
  }
 },
 "nbformat": 4,
 "nbformat_minor": 5
}
